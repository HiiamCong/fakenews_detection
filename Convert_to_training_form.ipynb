{
 "cells": [
  {
   "cell_type": "code",
   "execution_count": 10,
   "metadata": {},
   "outputs": [],
   "source": [
    "f = open(\"data/triples.txt\", \"r\")\n",
    "list_triples = f.readlines()\n",
    "f.close()"
   ]
  },
  {
   "cell_type": "code",
   "execution_count": 11,
   "metadata": {},
   "outputs": [],
   "source": [
    "list_triples = [item.replace(\"\\n\", \"\") for item in list_triples]"
   ]
  },
  {
   "cell_type": "code",
   "execution_count": 12,
   "metadata": {},
   "outputs": [
    {
     "data": {
      "text/plain": [
       "['obama\\tdead\\tbe',\n",
       " 'I\\thim\\tbe sad for',\n",
       " 'I\\tsad\\tbe',\n",
       " 'I\\thim\\tbe so sad for',\n",
       " 'I\\tso sad\\tbe']"
      ]
     },
     "execution_count": 12,
     "metadata": {},
     "output_type": "execute_result"
    }
   ],
   "source": [
    "list_triples"
   ]
  },
  {
   "cell_type": "code",
   "execution_count": 31,
   "metadata": {},
   "outputs": [],
   "source": [
    "entity_index = -1\n",
    "entity_map = {}\n",
    "relation_index = -1\n",
    "relation_map = {}\n",
    "\n",
    "entity2id = []\n",
    "relation2id = []\n",
    "train2id = []"
   ]
  },
  {
   "cell_type": "code",
   "execution_count": 32,
   "metadata": {},
   "outputs": [],
   "source": [
    "for triple in list_triples:\n",
    "    triple_arr = triple.split(\"\\t\")\n",
    "    if triple_arr[0] not in entity_map:\n",
    "        entity_index += 1\n",
    "        entity_map[triple_arr[0]] = entity_index\n",
    "        entity2id.append(\"{}\\t{}\".format(triple_arr[0], entity_index))\n",
    "    if triple_arr[1] not in entity_map:\n",
    "        entity_index += 1\n",
    "        entity_map[triple_arr[1]] = entity_index\n",
    "        entity2id.append(\"{}\\t{}\".format(triple_arr[1], entity_index))\n",
    "    if triple_arr[2] not in relation_map:\n",
    "        relation_index += 1\n",
    "        relation_map[triple_arr[2]] = relation_index\n",
    "        relation2id.append(\"{}\\t{}\".format(triple_arr[2], relation_index))\n",
    "    train2id.append(\"{}\\t{}\\t{}\".format(\n",
    "        entity_map[triple_arr[0]], entity_map[triple_arr[1]], relation_map[triple_arr[2]]\n",
    "    ))"
   ]
  },
  {
   "cell_type": "code",
   "execution_count": 39,
   "metadata": {},
   "outputs": [],
   "source": [
    "f = open(\"data/entity2id.txt\", \"w\")\n",
    "f.write(\"{}\\n\".format(len(entity2id)))\n",
    "for entity in entity2id:\n",
    "    f.write(entity + \"\\n\")\n",
    "f.close()"
   ]
  },
  {
   "cell_type": "code",
   "execution_count": 40,
   "metadata": {},
   "outputs": [],
   "source": [
    "f = open(\"data/relation2id.txt\", \"w\")\n",
    "f.write(\"{}\\n\".format(len(relation2id)))\n",
    "for relation in relation2id:\n",
    "    f.write(relation + \"\\n\")\n",
    "f.close()"
   ]
  },
  {
   "cell_type": "code",
   "execution_count": 41,
   "metadata": {},
   "outputs": [],
   "source": [
    "f = open(\"data/train2id.txt\", \"w\")\n",
    "f.write(\"{}\\n\".format(len(train2id)))\n",
    "for train in train2id:\n",
    "    f.write(train + \"\\n\")\n",
    "f.close()"
   ]
  },
  {
   "cell_type": "code",
   "execution_count": null,
   "metadata": {},
   "outputs": [],
   "source": []
  }
 ],
 "metadata": {
  "kernelspec": {
   "display_name": "Python 3",
   "language": "python",
   "name": "python3"
  },
  "language_info": {
   "codemirror_mode": {
    "name": "ipython",
    "version": 3
   },
   "file_extension": ".py",
   "mimetype": "text/x-python",
   "name": "python",
   "nbconvert_exporter": "python",
   "pygments_lexer": "ipython3",
   "version": "3.7.3"
  }
 },
 "nbformat": 4,
 "nbformat_minor": 2
}
